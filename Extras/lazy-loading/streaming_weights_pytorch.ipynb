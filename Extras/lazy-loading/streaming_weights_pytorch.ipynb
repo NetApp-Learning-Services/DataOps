{
 "cells": [
  {
   "cell_type": "markdown",
   "metadata": {},
   "source": [
    "# Streaming Pytorch Models\n",
    "\n",
    "This example demonstrates a basic approach to loading model weights from files at initialization time, rather than keeping them in memory as part of the model's state_dict. While this specific implementation loads the entire weights into memory when the model is created, it serves as a starting point for more advanced streaming techniques."
   ]
  },
  {
   "cell_type": "markdown",
   "metadata": {},
   "source": [
    "## Imports"
   ]
  },
  {
   "cell_type": "code",
   "execution_count": null,
   "metadata": {},
   "outputs": [],
   "source": [
    "%pip install torch==2.3.1 torchvision==0.18.1 torchaudio==2.3.1 --index-url https://download.pytorch.org/whl/cpu\n",
    "%pip install numpy==1.24.4"
   ]
  },
  {
   "cell_type": "code",
   "execution_count": null,
   "metadata": {},
   "outputs": [],
   "source": [
    "import torch\n",
    "import torch.nn as nn\n",
    "import numpy as np\n",
    "import os\n"
   ]
  },
  {
   "cell_type": "markdown",
   "metadata": {},
   "source": [
    "## Simple streaming model definition\n",
    "\n",
    "The StreamedLinear class is a custom PyTorch module that mimics a linear layer but loads its weights from files:\n",
    "\n",
    "* It uses np.memmap to memory-map the weight and bias files, allowing direct access to the data on disk without loading it entirely into memory.\n",
    "* The weights and biases are then converted to PyTorch tensors and registered as buffers using register_buffer. This makes them part of the module's state without being considered parameters.\n",
    "* The forward method performs a linear operation using these loaded weights and biases."
   ]
  },
  {
   "cell_type": "code",
   "execution_count": null,
   "metadata": {},
   "outputs": [],
   "source": [
    "class StreamedLinear(nn.Module):\n",
    "    def __init__(self, in_features, out_features, weight_file, bias_file):\n",
    "        super().__init__()\n",
    "        self.in_features = in_features\n",
    "        self.out_features = out_features\n",
    "        \n",
    "        # Open memory-mapped files\n",
    "        self.weight_mmap = np.memmap(weight_file, dtype='float32', mode='r', shape=(out_features, in_features))\n",
    "        self.bias_mmap = np.memmap(bias_file, dtype='float32', mode='r', shape=(out_features,))\n",
    "\n",
    "        # Register buffers for the weights and biases\n",
    "        self.register_buffer(\"weight\", torch.from_numpy(self.weight_mmap[:]).clone())\n",
    "        self.register_buffer(\"bias\", torch.from_numpy(self.bias_mmap[:]).clone())\n",
    "\n",
    "    def forward(self, input):\n",
    "        return nn.functional.linear(input, self.weight, self.bias)\n"
   ]
  },
  {
   "cell_type": "markdown",
   "metadata": {},
   "source": [
    "The StreamedModel class is a simple wrapper around StreamedLinear, representing a model with a single linear layer using streamed weights."
   ]
  },
  {
   "cell_type": "code",
   "execution_count": null,
   "metadata": {},
   "outputs": [],
   "source": [
    "class StreamedModel(nn.Module):\n",
    "    def __init__(self, in_features, out_features, weight_file, bias_file):\n",
    "        super().__init__()\n",
    "        self.linear = StreamedLinear(in_features, out_features, weight_file, bias_file)\n",
    "\n",
    "    def forward(self, x):\n",
    "        return self.linear(x)"
   ]
  },
  {
   "cell_type": "markdown",
   "metadata": {},
   "source": [
    "## Utility Functions and Setup\n",
    "\n",
    "This section defines a function to save weights and biases to files and sets up a directory to store these files."
   ]
  },
  {
   "cell_type": "code",
   "execution_count": null,
   "metadata": {},
   "outputs": [],
   "source": [
    "# Function to save weights to file\n",
    "def save_weights_to_file(weight, bias, weight_file, bias_file):\n",
    "    weight.detach().numpy().tofile(weight_file)\n",
    "    bias.detach().numpy().tofile(bias_file)"
   ]
  },
  {
   "cell_type": "code",
   "execution_count": null,
   "metadata": {},
   "outputs": [],
   "source": [
    "# Create a directory for weight files\n",
    "os.makedirs('streaming', exist_ok=True)\n",
    "weight_file = 'streaming/weight.bin'\n",
    "bias_file = 'streaming/bias.bin'"
   ]
  },
  {
   "cell_type": "markdown",
   "metadata": {},
   "source": [
    "# Model Creation and Weight Saving"
   ]
  },
  {
   "cell_type": "code",
   "execution_count": null,
   "metadata": {},
   "outputs": [],
   "source": [
    "# Create and save a regular model\n",
    "in_features, out_features = 10, 5\n",
    "regular_model = nn.Linear(in_features, out_features)\n",
    "save_weights_to_file(regular_model.weight, regular_model.bias, weight_file, bias_file)\n"
   ]
  },
  {
   "cell_type": "code",
   "execution_count": null,
   "metadata": {},
   "outputs": [],
   "source": [
    "# Create a streamed model\n",
    "streamed_model = StreamedModel(in_features, out_features, weight_file, bias_file)"
   ]
  },
  {
   "cell_type": "markdown",
   "metadata": {},
   "source": [
    "## Evaluation\n",
    "\n",
    "This approach has several advantages:\n",
    "\n",
    "* Memory Efficiency: The full weight tensors are not loaded into RAM, only the parts needed for the current computation.\n",
    "* Disk I/O Optimization: Memory-mapped files are optimized for fast random access, which is suitable for neural network computations.\n",
    "* Scalability: This method can be extended to very large models that wouldn't fit in RAM.\n",
    "\n",
    "However, there are also some considerations:\n",
    "\n",
    "* Performance: There might be some overhead in converting mmap arrays to PyTorch tensors during each forward pass.\n",
    "* Complexity: This approach adds complexity to your model implementation.\n",
    "* Storage Format: You need to ensure your weights are stored in a compatible format on disk."
   ]
  },
  {
   "cell_type": "code",
   "execution_count": null,
   "metadata": {},
   "outputs": [],
   "source": [
    "# Run inference\n",
    "input_data = torch.randn(1, in_features)\n",
    "output_regular = regular_model(input_data)\n",
    "output_streamed = streamed_model(input_data)\n",
    "\n",
    "print(\"Regular model output:\", output_regular)\n",
    "print(\"Streamed model output:\", output_streamed)\n",
    "print(\"Outputs are close:\", torch.allclose(output_regular, output_streamed))\n",
    "\n",
    "# Print number of parameters\n",
    "num_params_regular = sum(p.numel() for p in regular_model.parameters())\n",
    "num_params_streamed = sum(p.numel() for p in streamed_model.parameters())\n",
    "print(f\"Number of parameters in regular model: {num_params_regular}\")\n",
    "print(f\"Number of parameters in streamed model: {num_params_streamed}\")\n",
    "\n",
    "# Verify that the weights are the same\n",
    "print(\"Weights are close:\", torch.allclose(regular_model.weight, streamed_model.linear.weight))\n",
    "print(\"Biases are close:\", torch.allclose(regular_model.bias, streamed_model.linear.bias))"
   ]
  },
  {
   "cell_type": "markdown",
   "metadata": {},
   "source": [
    "For very large language models, you might need to extend this concept further:\n",
    "\n",
    "* Implement caching mechanisms to keep frequently used weights in memory.\n",
    "* Use more sophisticated sharding strategies to distribute weights across multiple files or even multiple machines.\n",
    "* Optimize the storage format for quick access to specific layers or attention heads."
   ]
  }
 ],
 "metadata": {
  "kernelspec": {
   "display_name": "Python 3",
   "language": "python",
   "name": "python3"
  },
  "language_info": {
   "codemirror_mode": {
    "name": "ipython",
    "version": 3
   },
   "file_extension": ".py",
   "mimetype": "text/x-python",
   "name": "python",
   "nbconvert_exporter": "python",
   "pygments_lexer": "ipython3",
   "version": "3.8.10"
  }
 },
 "nbformat": 4,
 "nbformat_minor": 2
}
