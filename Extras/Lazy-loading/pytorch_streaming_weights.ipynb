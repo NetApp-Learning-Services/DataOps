{
 "cells": [
  {
   "cell_type": "markdown",
   "metadata": {},
   "source": [
    "# Streaming Pytorch Models\n",
    "\n",
    "Yes, there are ways to stream weights from storage during inference without loading the entire model into memory at once using load_state_dict(). This approach can be particularly useful for very large models that exceed available RAM. One method to achieve this is by using memory-mapped files.\n",
    "Here's an explanation of how you might implement this:\n",
    "\n",
    "* Memory-Mapped Files: Memory-mapped files allow you to map a file on disk directly to memory without loading it all at once. This is done using the mmap module in Python.\n",
    "* Custom Storage Format: You'd need to store your model weights in a format that allows for easy access to specific parts of the model. This often involves some form of sharding or chunking of the weights.\n",
    "* Custom PyTorch Module: You'd create a custom PyTorch module that overrides the default parameter loading behavior to fetch weights from the memory-mapped file as needed."
   ]
  },
  {
   "cell_type": "markdown",
   "metadata": {},
   "source": [
    "## Imports"
   ]
  },
  {
   "cell_type": "code",
   "execution_count": null,
   "metadata": {},
   "outputs": [],
   "source": [
    "%pip install torch==2.3.1 torchvision==0.18.1 torchaudio==2.3.1 --index-url https://download.pytorch.org/whl/cpu\n",
    "%pip install numpy==1.24.4"
   ]
  },
  {
   "cell_type": "code",
   "execution_count": null,
   "metadata": {},
   "outputs": [],
   "source": [
    "import torch\n",
    "import torch.nn as nn\n",
    "import numpy as np\n",
    "import mmap\n",
    "import os\n"
   ]
  },
  {
   "cell_type": "markdown",
   "metadata": {},
   "source": [
    "## Create a simple model\n",
    "\n",
    "We define a StreamedLinear layer that uses memory-mapped files to access weights and biases.  The forward method of StreamedLinear converts the memory-mapped arrays to PyTorch tensors only when needed for computation."
   ]
  },
  {
   "cell_type": "code",
   "execution_count": null,
   "metadata": {},
   "outputs": [],
   "source": [
    "class StreamedLinear(nn.Module):\n",
    "    def __init__(self, in_features, out_features, weight_file, bias_file):\n",
    "        super().__init__()\n",
    "        self.in_features = in_features\n",
    "        self.out_features = out_features\n",
    "        \n",
    "        # Open memory-mapped files\n",
    "        self.weight_mmap = np.memmap(weight_file, dtype='float32', mode='r', shape=(out_features, in_features))\n",
    "        self.bias_mmap = np.memmap(bias_file, dtype='float32', mode='r', shape=(out_features,))\n",
    "\n",
    "    def forward(self, input):\n",
    "        # Convert mmap to tensor for the computation\n",
    "        weight = torch.from_numpy(self.weight_mmap[:])\n",
    "        bias = torch.from_numpy(self.bias_mmap[:])\n",
    "        return nn.functional.linear(input, weight, bias)"
   ]
  },
  {
   "cell_type": "markdown",
   "metadata": {},
   "source": [
    "We create a simple StreamedModel that uses this StreamedLinear layer."
   ]
  },
  {
   "cell_type": "code",
   "execution_count": null,
   "metadata": {},
   "outputs": [],
   "source": [
    "class StreamedModel(nn.Module):\n",
    "    def __init__(self, weight_file, bias_file):\n",
    "        super().__init__()\n",
    "        self.linear = StreamedLinear(10, 5, weight_file, bias_file)\n",
    "\n",
    "    def forward(self, x):\n",
    "        return self.linear(x)"
   ]
  },
  {
   "cell_type": "markdown",
   "metadata": {},
   "source": [
    "We demonstrate how to save weights from a regular PyTorch model to files that can be used by our streamed model."
   ]
  },
  {
   "cell_type": "code",
   "execution_count": null,
   "metadata": {},
   "outputs": [],
   "source": [
    "# Function to save weights to file\n",
    "def save_weights_to_file(weight, bias, weight_file, bias_file):\n",
    "    weight.detach().numpy().tofile(weight_file)\n",
    "    bias.detach().numpy().tofile(bias_file)\n",
    "\n",
    "# Create a directory for weight files\n",
    "os.makedirs('streaming', exist_ok=True)\n",
    "weight_file = 'streaming/weight.bin'\n",
    "bias_file = 'streaming/bias.bin'"
   ]
  },
  {
   "cell_type": "code",
   "execution_count": null,
   "metadata": {},
   "outputs": [],
   "source": [
    "# Create and save a regular model\n",
    "in_features, out_features = 10, 5\n",
    "regular_model = nn.Linear(in_features, out_features)\n",
    "save_weights_to_file(regular_model.weight, regular_model.bias, weight_file, bias_file)\n",
    "\n",
    "# Create a streamed model\n",
    "streamed_model = StreamedModel(in_features, out_features, weight_file, bias_file)"
   ]
  },
  {
   "cell_type": "markdown",
   "metadata": {},
   "source": [
    "## Evaluation\n",
    "\n",
    "This approach has several advantages:\n",
    "\n",
    "* Memory Efficiency: The full weight tensors are not loaded into RAM, only the parts needed for the current computation.\n",
    "* Disk I/O Optimization: Memory-mapped files are optimized for fast random access, which is suitable for neural network computations.\n",
    "* Scalability: This method can be extended to very large models that wouldn't fit in RAM.\n",
    "\n",
    "However, there are also some considerations:\n",
    "\n",
    "* Performance: There might be some overhead in converting mmap arrays to PyTorch tensors during each forward pass.\n",
    "* Complexity: This approach adds complexity to your model implementation.\n",
    "* Storage Format: You need to ensure your weights are stored in a compatible format on disk."
   ]
  },
  {
   "cell_type": "code",
   "execution_count": null,
   "metadata": {},
   "outputs": [],
   "source": [
    "# Run inference\n",
    "input_data = torch.randn(1, in_features)\n",
    "output_regular = regular_model(input_data)\n",
    "output_streamed = streamed_model(input_data)\n",
    "\n",
    "print(\"Regular model output:\", output_regular)\n",
    "print(\"Streamed model output:\", output_streamed)\n",
    "print(\"Outputs are close:\", torch.allclose(output_regular, output_streamed))\n",
    "\n",
    "# Print number of parameters\n",
    "num_params_regular = sum(p.numel() for p in regular_model.parameters())\n",
    "num_params_streamed = sum(p.numel() for p in streamed_model.parameters())\n",
    "print(f\"Number of parameters in regular model: {num_params_regular}\")\n",
    "print(f\"Number of parameters in streamed model: {num_params_streamed}\")"
   ]
  },
  {
   "cell_type": "markdown",
   "metadata": {},
   "source": [
    "For very large language models, you might need to extend this concept further:\n",
    "\n",
    "* Implement caching mechanisms to keep frequently used weights in memory.\n",
    "* Use more sophisticated sharding strategies to distribute weights across multiple files or even multiple machines.\n",
    "* Optimize the storage format for quick access to specific layers or attention heads."
   ]
  }
 ],
 "metadata": {
  "kernelspec": {
   "display_name": "Python 3",
   "language": "python",
   "name": "python3"
  },
  "language_info": {
   "codemirror_mode": {
    "name": "ipython",
    "version": 3
   },
   "file_extension": ".py",
   "mimetype": "text/x-python",
   "name": "python",
   "nbconvert_exporter": "python",
   "pygments_lexer": "ipython3",
   "version": "3.8.10"
  }
 },
 "nbformat": 4,
 "nbformat_minor": 2
}
